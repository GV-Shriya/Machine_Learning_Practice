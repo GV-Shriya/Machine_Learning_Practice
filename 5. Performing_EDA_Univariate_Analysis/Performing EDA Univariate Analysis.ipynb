{
  "cells": [
    {
      "cell_type": "markdown",
      "source": [
        "# Importing the necessary libraries"
      ],
      "metadata": {
        "id": "v8slIW8N_9Ps"
      },
      "id": "v8slIW8N_9Ps"
    },
    {
      "cell_type": "code",
      "execution_count": null,
      "id": "622bf137",
      "metadata": {
        "id": "622bf137"
      },
      "outputs": [],
      "source": [
        "import pandas as pd\n",
        "import seaborn as sns\n",
        "import matplotlib.pyplot as plt"
      ]
    },
    {
      "cell_type": "markdown",
      "source": [
        "# Mounting the drive to access the file stored in the drive"
      ],
      "metadata": {
        "id": "q9K_UGx9APXi"
      },
      "id": "q9K_UGx9APXi"
    },
    {
      "cell_type": "code",
      "source": [
        "from google.colab import drive\n",
        "drive.mount('/content/drive')"
      ],
      "metadata": {
        "colab": {
          "base_uri": "https://localhost:8080/"
        },
        "id": "DJiUKrHc_T7D",
        "outputId": "df8b58ee-820b-4dcb-c3a5-cd714b81a785"
      },
      "id": "DJiUKrHc_T7D",
      "execution_count": null,
      "outputs": [
        {
          "output_type": "stream",
          "name": "stdout",
          "text": [
            "Mounted at /content/drive\n"
          ]
        }
      ]
    },
    {
      "cell_type": "markdown",
      "source": [
        "# Reading the data as a dataframe into the 'df' variable"
      ],
      "metadata": {
        "id": "M41CyzbIAYDw"
      },
      "id": "M41CyzbIAYDw"
    },
    {
      "cell_type": "code",
      "execution_count": null,
      "id": "d327f843",
      "metadata": {
        "id": "d327f843"
      },
      "outputs": [],
      "source": [
        "df = pd.read_csv(\"/content/drive/MyDrive/ipl_2022_dataset.csv\")"
      ]
    },
    {
      "cell_type": "markdown",
      "source": [
        "# Analyzing the data to find out about the data"
      ],
      "metadata": {
        "id": "t4xzcuZ5AzCR"
      },
      "id": "t4xzcuZ5AzCR"
    },
    {
      "cell_type": "code",
      "execution_count": null,
      "id": "53e58a96",
      "metadata": {
        "id": "53e58a96",
        "outputId": "1a3dbbb0-a50a-4523-b761-b4d2c554925c",
        "colab": {
          "base_uri": "https://localhost:8080/",
          "height": 206
        }
      },
      "outputs": [
        {
          "output_type": "execute_result",
          "data": {
            "text/plain": [
              "   Unnamed: 0           Player  Base Price         TYPE  COST IN ₹ (CR.)  \\\n",
              "0           0      Rashid Khan  Draft Pick       BOWLER             15.0   \n",
              "1           1    Hardik Pandya  Draft Pick  ALL-ROUNDER             15.0   \n",
              "2           2  Lockie Ferguson        2 Cr       BOWLER             10.0   \n",
              "3           3    Rahul Tewatia     40 Lakh  ALL-ROUNDER              9.0   \n",
              "4           4     Shubman Gill  Draft Pick       BATTER              8.0   \n",
              "\n",
              "   Cost IN $ (000) 2021 Squad            Team  \n",
              "0           1950.0        SRH  Gujarat Titans  \n",
              "1           1950.0         MI  Gujarat Titans  \n",
              "2           1300.0        KKR  Gujarat Titans  \n",
              "3           1170.0         RR  Gujarat Titans  \n",
              "4           1040.0        KKR  Gujarat Titans  "
            ],
            "text/html": [
              "\n",
              "  <div id=\"df-080192ba-aced-416d-b168-5b1ecbf67148\">\n",
              "    <div class=\"colab-df-container\">\n",
              "      <div>\n",
              "<style scoped>\n",
              "    .dataframe tbody tr th:only-of-type {\n",
              "        vertical-align: middle;\n",
              "    }\n",
              "\n",
              "    .dataframe tbody tr th {\n",
              "        vertical-align: top;\n",
              "    }\n",
              "\n",
              "    .dataframe thead th {\n",
              "        text-align: right;\n",
              "    }\n",
              "</style>\n",
              "<table border=\"1\" class=\"dataframe\">\n",
              "  <thead>\n",
              "    <tr style=\"text-align: right;\">\n",
              "      <th></th>\n",
              "      <th>Unnamed: 0</th>\n",
              "      <th>Player</th>\n",
              "      <th>Base Price</th>\n",
              "      <th>TYPE</th>\n",
              "      <th>COST IN ₹ (CR.)</th>\n",
              "      <th>Cost IN $ (000)</th>\n",
              "      <th>2021 Squad</th>\n",
              "      <th>Team</th>\n",
              "    </tr>\n",
              "  </thead>\n",
              "  <tbody>\n",
              "    <tr>\n",
              "      <th>0</th>\n",
              "      <td>0</td>\n",
              "      <td>Rashid Khan</td>\n",
              "      <td>Draft Pick</td>\n",
              "      <td>BOWLER</td>\n",
              "      <td>15.0</td>\n",
              "      <td>1950.0</td>\n",
              "      <td>SRH</td>\n",
              "      <td>Gujarat Titans</td>\n",
              "    </tr>\n",
              "    <tr>\n",
              "      <th>1</th>\n",
              "      <td>1</td>\n",
              "      <td>Hardik Pandya</td>\n",
              "      <td>Draft Pick</td>\n",
              "      <td>ALL-ROUNDER</td>\n",
              "      <td>15.0</td>\n",
              "      <td>1950.0</td>\n",
              "      <td>MI</td>\n",
              "      <td>Gujarat Titans</td>\n",
              "    </tr>\n",
              "    <tr>\n",
              "      <th>2</th>\n",
              "      <td>2</td>\n",
              "      <td>Lockie Ferguson</td>\n",
              "      <td>2 Cr</td>\n",
              "      <td>BOWLER</td>\n",
              "      <td>10.0</td>\n",
              "      <td>1300.0</td>\n",
              "      <td>KKR</td>\n",
              "      <td>Gujarat Titans</td>\n",
              "    </tr>\n",
              "    <tr>\n",
              "      <th>3</th>\n",
              "      <td>3</td>\n",
              "      <td>Rahul Tewatia</td>\n",
              "      <td>40 Lakh</td>\n",
              "      <td>ALL-ROUNDER</td>\n",
              "      <td>9.0</td>\n",
              "      <td>1170.0</td>\n",
              "      <td>RR</td>\n",
              "      <td>Gujarat Titans</td>\n",
              "    </tr>\n",
              "    <tr>\n",
              "      <th>4</th>\n",
              "      <td>4</td>\n",
              "      <td>Shubman Gill</td>\n",
              "      <td>Draft Pick</td>\n",
              "      <td>BATTER</td>\n",
              "      <td>8.0</td>\n",
              "      <td>1040.0</td>\n",
              "      <td>KKR</td>\n",
              "      <td>Gujarat Titans</td>\n",
              "    </tr>\n",
              "  </tbody>\n",
              "</table>\n",
              "</div>\n",
              "      <button class=\"colab-df-convert\" onclick=\"convertToInteractive('df-080192ba-aced-416d-b168-5b1ecbf67148')\"\n",
              "              title=\"Convert this dataframe to an interactive table.\"\n",
              "              style=\"display:none;\">\n",
              "        \n",
              "  <svg xmlns=\"http://www.w3.org/2000/svg\" height=\"24px\"viewBox=\"0 0 24 24\"\n",
              "       width=\"24px\">\n",
              "    <path d=\"M0 0h24v24H0V0z\" fill=\"none\"/>\n",
              "    <path d=\"M18.56 5.44l.94 2.06.94-2.06 2.06-.94-2.06-.94-.94-2.06-.94 2.06-2.06.94zm-11 1L8.5 8.5l.94-2.06 2.06-.94-2.06-.94L8.5 2.5l-.94 2.06-2.06.94zm10 10l.94 2.06.94-2.06 2.06-.94-2.06-.94-.94-2.06-.94 2.06-2.06.94z\"/><path d=\"M17.41 7.96l-1.37-1.37c-.4-.4-.92-.59-1.43-.59-.52 0-1.04.2-1.43.59L10.3 9.45l-7.72 7.72c-.78.78-.78 2.05 0 2.83L4 21.41c.39.39.9.59 1.41.59.51 0 1.02-.2 1.41-.59l7.78-7.78 2.81-2.81c.8-.78.8-2.07 0-2.86zM5.41 20L4 18.59l7.72-7.72 1.47 1.35L5.41 20z\"/>\n",
              "  </svg>\n",
              "      </button>\n",
              "      \n",
              "  <style>\n",
              "    .colab-df-container {\n",
              "      display:flex;\n",
              "      flex-wrap:wrap;\n",
              "      gap: 12px;\n",
              "    }\n",
              "\n",
              "    .colab-df-convert {\n",
              "      background-color: #E8F0FE;\n",
              "      border: none;\n",
              "      border-radius: 50%;\n",
              "      cursor: pointer;\n",
              "      display: none;\n",
              "      fill: #1967D2;\n",
              "      height: 32px;\n",
              "      padding: 0 0 0 0;\n",
              "      width: 32px;\n",
              "    }\n",
              "\n",
              "    .colab-df-convert:hover {\n",
              "      background-color: #E2EBFA;\n",
              "      box-shadow: 0px 1px 2px rgba(60, 64, 67, 0.3), 0px 1px 3px 1px rgba(60, 64, 67, 0.15);\n",
              "      fill: #174EA6;\n",
              "    }\n",
              "\n",
              "    [theme=dark] .colab-df-convert {\n",
              "      background-color: #3B4455;\n",
              "      fill: #D2E3FC;\n",
              "    }\n",
              "\n",
              "    [theme=dark] .colab-df-convert:hover {\n",
              "      background-color: #434B5C;\n",
              "      box-shadow: 0px 1px 3px 1px rgba(0, 0, 0, 0.15);\n",
              "      filter: drop-shadow(0px 1px 2px rgba(0, 0, 0, 0.3));\n",
              "      fill: #FFFFFF;\n",
              "    }\n",
              "  </style>\n",
              "\n",
              "      <script>\n",
              "        const buttonEl =\n",
              "          document.querySelector('#df-080192ba-aced-416d-b168-5b1ecbf67148 button.colab-df-convert');\n",
              "        buttonEl.style.display =\n",
              "          google.colab.kernel.accessAllowed ? 'block' : 'none';\n",
              "\n",
              "        async function convertToInteractive(key) {\n",
              "          const element = document.querySelector('#df-080192ba-aced-416d-b168-5b1ecbf67148');\n",
              "          const dataTable =\n",
              "            await google.colab.kernel.invokeFunction('convertToInteractive',\n",
              "                                                     [key], {});\n",
              "          if (!dataTable) return;\n",
              "\n",
              "          const docLinkHtml = 'Like what you see? Visit the ' +\n",
              "            '<a target=\"_blank\" href=https://colab.research.google.com/notebooks/data_table.ipynb>data table notebook</a>'\n",
              "            + ' to learn more about interactive tables.';\n",
              "          element.innerHTML = '';\n",
              "          dataTable['output_type'] = 'display_data';\n",
              "          await google.colab.output.renderOutput(dataTable, element);\n",
              "          const docLink = document.createElement('div');\n",
              "          docLink.innerHTML = docLinkHtml;\n",
              "          element.appendChild(docLink);\n",
              "        }\n",
              "      </script>\n",
              "    </div>\n",
              "  </div>\n",
              "  "
            ]
          },
          "metadata": {},
          "execution_count": 23
        }
      ],
      "source": [
        "df.head()"
      ]
    },
    {
      "cell_type": "code",
      "execution_count": null,
      "id": "8b319ac1",
      "metadata": {
        "id": "8b319ac1",
        "outputId": "5671c920-b482-4f87-e769-9d62e8124db3",
        "colab": {
          "base_uri": "https://localhost:8080/",
          "height": 206
        }
      },
      "outputs": [
        {
          "output_type": "execute_result",
          "data": {
            "text/plain": [
              "     Unnamed: 0         Player Base Price          TYPE  COST IN ₹ (CR.)  \\\n",
              "94           94   Ramesh Kumar    20 Lakh        BATTER             0.20   \n",
              "626         626  Hardik Tamore    20 Lakh  WICKETKEEPER              NaN   \n",
              "62           62    Lalit Yadav    20 Lakh   ALL-ROUNDER             0.65   \n",
              "591         591      Dev Lakra    20 Lakh   ALL-ROUNDER              NaN   \n",
              "224         224    Umran Malik   Retained        BOWLER             4.00   \n",
              "\n",
              "     Cost IN $ (000) 2021 Squad                   Team  \n",
              "94              26.0        NaN  Kolkata Knight Riders  \n",
              "626              NaN        NaN                 Unsold  \n",
              "62              84.5         DC         Delhi Capitals  \n",
              "591              NaN        NaN                 Unsold  \n",
              "224            520.0        SRH    Sunrisers Hyderabad  "
            ],
            "text/html": [
              "\n",
              "  <div id=\"df-baa94747-96a9-4fe2-b15d-aa787cd3239b\">\n",
              "    <div class=\"colab-df-container\">\n",
              "      <div>\n",
              "<style scoped>\n",
              "    .dataframe tbody tr th:only-of-type {\n",
              "        vertical-align: middle;\n",
              "    }\n",
              "\n",
              "    .dataframe tbody tr th {\n",
              "        vertical-align: top;\n",
              "    }\n",
              "\n",
              "    .dataframe thead th {\n",
              "        text-align: right;\n",
              "    }\n",
              "</style>\n",
              "<table border=\"1\" class=\"dataframe\">\n",
              "  <thead>\n",
              "    <tr style=\"text-align: right;\">\n",
              "      <th></th>\n",
              "      <th>Unnamed: 0</th>\n",
              "      <th>Player</th>\n",
              "      <th>Base Price</th>\n",
              "      <th>TYPE</th>\n",
              "      <th>COST IN ₹ (CR.)</th>\n",
              "      <th>Cost IN $ (000)</th>\n",
              "      <th>2021 Squad</th>\n",
              "      <th>Team</th>\n",
              "    </tr>\n",
              "  </thead>\n",
              "  <tbody>\n",
              "    <tr>\n",
              "      <th>94</th>\n",
              "      <td>94</td>\n",
              "      <td>Ramesh Kumar</td>\n",
              "      <td>20 Lakh</td>\n",
              "      <td>BATTER</td>\n",
              "      <td>0.20</td>\n",
              "      <td>26.0</td>\n",
              "      <td>NaN</td>\n",
              "      <td>Kolkata Knight Riders</td>\n",
              "    </tr>\n",
              "    <tr>\n",
              "      <th>626</th>\n",
              "      <td>626</td>\n",
              "      <td>Hardik Tamore</td>\n",
              "      <td>20 Lakh</td>\n",
              "      <td>WICKETKEEPER</td>\n",
              "      <td>NaN</td>\n",
              "      <td>NaN</td>\n",
              "      <td>NaN</td>\n",
              "      <td>Unsold</td>\n",
              "    </tr>\n",
              "    <tr>\n",
              "      <th>62</th>\n",
              "      <td>62</td>\n",
              "      <td>Lalit Yadav</td>\n",
              "      <td>20 Lakh</td>\n",
              "      <td>ALL-ROUNDER</td>\n",
              "      <td>0.65</td>\n",
              "      <td>84.5</td>\n",
              "      <td>DC</td>\n",
              "      <td>Delhi Capitals</td>\n",
              "    </tr>\n",
              "    <tr>\n",
              "      <th>591</th>\n",
              "      <td>591</td>\n",
              "      <td>Dev Lakra</td>\n",
              "      <td>20 Lakh</td>\n",
              "      <td>ALL-ROUNDER</td>\n",
              "      <td>NaN</td>\n",
              "      <td>NaN</td>\n",
              "      <td>NaN</td>\n",
              "      <td>Unsold</td>\n",
              "    </tr>\n",
              "    <tr>\n",
              "      <th>224</th>\n",
              "      <td>224</td>\n",
              "      <td>Umran Malik</td>\n",
              "      <td>Retained</td>\n",
              "      <td>BOWLER</td>\n",
              "      <td>4.00</td>\n",
              "      <td>520.0</td>\n",
              "      <td>SRH</td>\n",
              "      <td>Sunrisers Hyderabad</td>\n",
              "    </tr>\n",
              "  </tbody>\n",
              "</table>\n",
              "</div>\n",
              "      <button class=\"colab-df-convert\" onclick=\"convertToInteractive('df-baa94747-96a9-4fe2-b15d-aa787cd3239b')\"\n",
              "              title=\"Convert this dataframe to an interactive table.\"\n",
              "              style=\"display:none;\">\n",
              "        \n",
              "  <svg xmlns=\"http://www.w3.org/2000/svg\" height=\"24px\"viewBox=\"0 0 24 24\"\n",
              "       width=\"24px\">\n",
              "    <path d=\"M0 0h24v24H0V0z\" fill=\"none\"/>\n",
              "    <path d=\"M18.56 5.44l.94 2.06.94-2.06 2.06-.94-2.06-.94-.94-2.06-.94 2.06-2.06.94zm-11 1L8.5 8.5l.94-2.06 2.06-.94-2.06-.94L8.5 2.5l-.94 2.06-2.06.94zm10 10l.94 2.06.94-2.06 2.06-.94-2.06-.94-.94-2.06-.94 2.06-2.06.94z\"/><path d=\"M17.41 7.96l-1.37-1.37c-.4-.4-.92-.59-1.43-.59-.52 0-1.04.2-1.43.59L10.3 9.45l-7.72 7.72c-.78.78-.78 2.05 0 2.83L4 21.41c.39.39.9.59 1.41.59.51 0 1.02-.2 1.41-.59l7.78-7.78 2.81-2.81c.8-.78.8-2.07 0-2.86zM5.41 20L4 18.59l7.72-7.72 1.47 1.35L5.41 20z\"/>\n",
              "  </svg>\n",
              "      </button>\n",
              "      \n",
              "  <style>\n",
              "    .colab-df-container {\n",
              "      display:flex;\n",
              "      flex-wrap:wrap;\n",
              "      gap: 12px;\n",
              "    }\n",
              "\n",
              "    .colab-df-convert {\n",
              "      background-color: #E8F0FE;\n",
              "      border: none;\n",
              "      border-radius: 50%;\n",
              "      cursor: pointer;\n",
              "      display: none;\n",
              "      fill: #1967D2;\n",
              "      height: 32px;\n",
              "      padding: 0 0 0 0;\n",
              "      width: 32px;\n",
              "    }\n",
              "\n",
              "    .colab-df-convert:hover {\n",
              "      background-color: #E2EBFA;\n",
              "      box-shadow: 0px 1px 2px rgba(60, 64, 67, 0.3), 0px 1px 3px 1px rgba(60, 64, 67, 0.15);\n",
              "      fill: #174EA6;\n",
              "    }\n",
              "\n",
              "    [theme=dark] .colab-df-convert {\n",
              "      background-color: #3B4455;\n",
              "      fill: #D2E3FC;\n",
              "    }\n",
              "\n",
              "    [theme=dark] .colab-df-convert:hover {\n",
              "      background-color: #434B5C;\n",
              "      box-shadow: 0px 1px 3px 1px rgba(0, 0, 0, 0.15);\n",
              "      filter: drop-shadow(0px 1px 2px rgba(0, 0, 0, 0.3));\n",
              "      fill: #FFFFFF;\n",
              "    }\n",
              "  </style>\n",
              "\n",
              "      <script>\n",
              "        const buttonEl =\n",
              "          document.querySelector('#df-baa94747-96a9-4fe2-b15d-aa787cd3239b button.colab-df-convert');\n",
              "        buttonEl.style.display =\n",
              "          google.colab.kernel.accessAllowed ? 'block' : 'none';\n",
              "\n",
              "        async function convertToInteractive(key) {\n",
              "          const element = document.querySelector('#df-baa94747-96a9-4fe2-b15d-aa787cd3239b');\n",
              "          const dataTable =\n",
              "            await google.colab.kernel.invokeFunction('convertToInteractive',\n",
              "                                                     [key], {});\n",
              "          if (!dataTable) return;\n",
              "\n",
              "          const docLinkHtml = 'Like what you see? Visit the ' +\n",
              "            '<a target=\"_blank\" href=https://colab.research.google.com/notebooks/data_table.ipynb>data table notebook</a>'\n",
              "            + ' to learn more about interactive tables.';\n",
              "          element.innerHTML = '';\n",
              "          dataTable['output_type'] = 'display_data';\n",
              "          await google.colab.output.renderOutput(dataTable, element);\n",
              "          const docLink = document.createElement('div');\n",
              "          docLink.innerHTML = docLinkHtml;\n",
              "          element.appendChild(docLink);\n",
              "        }\n",
              "      </script>\n",
              "    </div>\n",
              "  </div>\n",
              "  "
            ]
          },
          "metadata": {},
          "execution_count": 8
        }
      ],
      "source": [
        "df.sample(5) "
      ]
    },
    {
      "cell_type": "code",
      "source": [
        "df1 = df.dropna()"
      ],
      "metadata": {
        "id": "12gskiLOKl9O"
      },
      "id": "12gskiLOKl9O",
      "execution_count": null,
      "outputs": []
    },
    {
      "cell_type": "markdown",
      "source": [
        "# Statistical summary of three features of the data: TYPE, Team and Cost in Dollars"
      ],
      "metadata": {
        "id": "KF4fZjoLIuvs"
      },
      "id": "KF4fZjoLIuvs"
    },
    {
      "cell_type": "code",
      "execution_count": null,
      "metadata": {
        "outputId": "83a8e937-f208-467b-96c3-83d3961e7a80",
        "colab": {
          "base_uri": "https://localhost:8080/"
        },
        "id": "A0axStppIuvt"
      },
      "outputs": [
        {
          "output_type": "stream",
          "name": "stdout",
          "text": [
            "ALL-ROUNDER\n",
            "21\n"
          ]
        }
      ],
      "source": [
        "print(df1['TYPE'].min())\n",
        "print(df1['TYPE'].value_counts().min())"
      ],
      "id": "A0axStppIuvt"
    },
    {
      "cell_type": "code",
      "execution_count": null,
      "metadata": {
        "outputId": "2be7d77b-726a-4f47-be49-c11896f6b061",
        "colab": {
          "base_uri": "https://localhost:8080/"
        },
        "id": "t7h9WPxLIuvu"
      },
      "outputs": [
        {
          "output_type": "stream",
          "name": "stdout",
          "text": [
            "WICKETKEEPER\n",
            "54\n"
          ]
        }
      ],
      "source": [
        "print(df1['TYPE'].max())\n",
        "print(df1['TYPE'].value_counts().max())"
      ],
      "id": "t7h9WPxLIuvu"
    },
    {
      "cell_type": "code",
      "source": [
        "print(df1['Team'].min())\n",
        "print(df1['Team'].value_counts().min())"
      ],
      "metadata": {
        "colab": {
          "base_uri": "https://localhost:8080/"
        },
        "id": "J82Wtc7gI9k6",
        "outputId": "355649b9-352f-4e2a-a5b3-9bfecc5d22c7"
      },
      "id": "J82Wtc7gI9k6",
      "execution_count": null,
      "outputs": [
        {
          "output_type": "stream",
          "name": "stdout",
          "text": [
            "Chennai Super Kings\n",
            "14\n"
          ]
        }
      ]
    },
    {
      "cell_type": "code",
      "source": [
        "print(df1['Team'].max())\n",
        "print(df1['Team'].value_counts().max())"
      ],
      "metadata": {
        "colab": {
          "base_uri": "https://localhost:8080/"
        },
        "id": "sEL8oKyGI9oL",
        "outputId": "f193f71f-c996-4fac-dc98-29a6716315a1"
      },
      "id": "sEL8oKyGI9oL",
      "execution_count": null,
      "outputs": [
        {
          "output_type": "stream",
          "name": "stdout",
          "text": [
            "Sunrisers Hyderabad\n",
            "19\n"
          ]
        }
      ]
    },
    {
      "cell_type": "code",
      "execution_count": null,
      "metadata": {
        "outputId": "ca23e89c-780c-447d-e4de-dab83594d976",
        "colab": {
          "base_uri": "https://localhost:8080/"
        },
        "id": "J1Wsn2upIuvv"
      },
      "outputs": [
        {
          "output_type": "execute_result",
          "data": {
            "text/plain": [
              "26.0"
            ]
          },
          "metadata": {},
          "execution_count": 77
        }
      ],
      "source": [
        "df1['Cost IN $ (000)'].min()"
      ],
      "id": "J1Wsn2upIuvv"
    },
    {
      "cell_type": "code",
      "execution_count": null,
      "metadata": {
        "outputId": "582ce3d4-8feb-4649-b7e2-e91a3b7fc3ee",
        "colab": {
          "base_uri": "https://localhost:8080/"
        },
        "id": "5mkADYUNIuvv"
      },
      "outputs": [
        {
          "output_type": "execute_result",
          "data": {
            "text/plain": [
              "2210.0"
            ]
          },
          "metadata": {},
          "execution_count": 78
        }
      ],
      "source": [
        "df1['Cost IN $ (000)'].max()"
      ],
      "id": "5mkADYUNIuvv"
    },
    {
      "cell_type": "code",
      "source": [
        "df1['Cost IN $ (000)'].mean()"
      ],
      "metadata": {
        "colab": {
          "base_uri": "https://localhost:8080/"
        },
        "outputId": "0e47776e-7839-44a2-8ff7-914ebab6b96f",
        "id": "gG_klvJpIuvv"
      },
      "execution_count": null,
      "outputs": [
        {
          "output_type": "execute_result",
          "data": {
            "text/plain": [
              "650.2452830188679"
            ]
          },
          "metadata": {},
          "execution_count": 79
        }
      ],
      "id": "gG_klvJpIuvv"
    },
    {
      "cell_type": "code",
      "source": [
        "df1['Cost IN $ (000)'].median()"
      ],
      "metadata": {
        "colab": {
          "base_uri": "https://localhost:8080/"
        },
        "outputId": "40454c75-26a8-4c06-a798-678aca468c68",
        "id": "AGalw5xAIuvw"
      },
      "execution_count": null,
      "outputs": [
        {
          "output_type": "execute_result",
          "data": {
            "text/plain": [
              "520.0"
            ]
          },
          "metadata": {},
          "execution_count": 80
        }
      ],
      "id": "AGalw5xAIuvw"
    },
    {
      "cell_type": "code",
      "source": [
        "df1['Cost IN $ (000)'].mode()"
      ],
      "metadata": {
        "colab": {
          "base_uri": "https://localhost:8080/"
        },
        "outputId": "d9809977-0e69-416b-dd78-5a47a9637d0e",
        "id": "2SkpVPlyIuvw"
      },
      "execution_count": null,
      "outputs": [
        {
          "output_type": "execute_result",
          "data": {
            "text/plain": [
              "0    26.0\n",
              "dtype: float64"
            ]
          },
          "metadata": {},
          "execution_count": 68
        }
      ],
      "id": "2SkpVPlyIuvw"
    },
    {
      "cell_type": "markdown",
      "source": [
        "# Visualizing the Data"
      ],
      "metadata": {
        "id": "rkc1h6X-FRGW"
      },
      "id": "rkc1h6X-FRGW"
    },
    {
      "cell_type": "markdown",
      "source": [
        "# Bar Graph\n"
      ],
      "metadata": {
        "id": "8MwKdueJBl6x"
      },
      "id": "8MwKdueJBl6x"
    },
    {
      "cell_type": "code",
      "source": [
        "df['TYPE'].value_counts().plot(kind = 'bar')"
      ],
      "metadata": {
        "colab": {
          "base_uri": "https://localhost:8080/",
          "height": 349
        },
        "id": "Nu_qb9OxK9Zf",
        "outputId": "cbd892dd-a18b-466b-fedb-a9bd1f1c5672"
      },
      "id": "Nu_qb9OxK9Zf",
      "execution_count": null,
      "outputs": [
        {
          "output_type": "execute_result",
          "data": {
            "text/plain": [
              "<matplotlib.axes._subplots.AxesSubplot at 0x7f142217e580>"
            ]
          },
          "metadata": {},
          "execution_count": 72
        },
        {
          "output_type": "display_data",
          "data": {
            "text/plain": [
              "<Figure size 432x288 with 1 Axes>"
            ],
            "image/png": "[encoded data removed]"
          },
          "metadata": {
            "needs_background": "light"
          }
        }
      ]
    },
    {
      "cell_type": "code",
      "execution_count": null,
      "id": "79c65ad0",
      "metadata": {
        "id": "79c65ad0",
        "outputId": "624f0dc4-e4e8-4b2e-becd-8138f17631fc",
        "colab": {
          "base_uri": "https://localhost:8080/",
          "height": 349
        }
      },
      "outputs": [
        {
          "output_type": "execute_result",
          "data": {
            "text/plain": [
              "<matplotlib.axes._subplots.AxesSubplot at 0x7f1421e9f730>"
            ]
          },
          "metadata": {},
          "execution_count": 71
        },
        {
          "output_type": "display_data",
          "data": {
            "text/plain": [
              "<Figure size 432x288 with 1 Axes>"
            ],
            "image/png": "[encoded data removed]"
          },
          "metadata": {
            "needs_background": "light"
          }
        }
      ],
      "source": [
        "df1['TYPE'].value_counts().plot(kind = 'bar')"
      ]
    },
    {
      "cell_type": "markdown",
      "id": "e3a0975d",
      "metadata": {
        "id": "e3a0975d"
      },
      "source": [
        "# Pie Chart"
      ]
    },
    {
      "cell_type": "code",
      "source": [
        "df['2021 Squad'].value_counts().plot(kind = 'pie', autopct = \"%.2f\")"
      ],
      "metadata": {
        "colab": {
          "base_uri": "https://localhost:8080/",
          "height": 265
        },
        "id": "rBaRdC6JqnZ1",
        "outputId": "7f0ca776-94ea-4f9c-cacb-eefea368d2de"
      },
      "id": "rBaRdC6JqnZ1",
      "execution_count": null,
      "outputs": [
        {
          "output_type": "execute_result",
          "data": {
            "text/plain": [
              "<matplotlib.axes._subplots.AxesSubplot at 0x7f1421f44070>"
            ]
          },
          "metadata": {},
          "execution_count": 61
        },
        {
          "output_type": "display_data",
          "data": {
            "text/plain": [
              "<Figure size 432x288 with 1 Axes>"
            ],
            "image/png": "[encoded data removed]"
          },
          "metadata": {}
        }
      ]
    },
    {
      "cell_type": "code",
      "source": [
        "df['Team'].value_counts().plot(kind = 'pie', autopct = \"%.2f\")"
      ],
      "metadata": {
        "colab": {
          "base_uri": "https://localhost:8080/",
          "height": 265
        },
        "id": "OLlsGLPHMyTW",
        "outputId": "56dcba6d-b07e-4e99-aa4d-09903593169f"
      },
      "id": "OLlsGLPHMyTW",
      "execution_count": null,
      "outputs": [
        {
          "output_type": "execute_result",
          "data": {
            "text/plain": [
              "<matplotlib.axes._subplots.AxesSubplot at 0x7f1421be21c0>"
            ]
          },
          "metadata": {},
          "execution_count": 87
        },
        {
          "output_type": "display_data",
          "data": {
            "text/plain": [
              "<Figure size 432x288 with 1 Axes>"
            ],
            "image/png": "[encoded data removed]"
          },
          "metadata": {}
        }
      ]
    },
    {
      "cell_type": "code",
      "execution_count": null,
      "id": "6828192b",
      "metadata": {
        "scrolled": true,
        "id": "6828192b",
        "outputId": "ab85001a-f76c-47b3-be65-99c8587a5bb4",
        "colab": {
          "base_uri": "https://localhost:8080/",
          "height": 265
        }
      },
      "outputs": [
        {
          "output_type": "execute_result",
          "data": {
            "text/plain": [
              "<matplotlib.axes._subplots.AxesSubplot at 0x7f1421f6e9d0>"
            ]
          },
          "metadata": {},
          "execution_count": 60
        },
        {
          "output_type": "display_data",
          "data": {
            "text/plain": [
              "<Figure size 432x288 with 1 Axes>"
            ],
            "image/png": "[encoded data removed]"
          },
          "metadata": {}
        }
      ],
      "source": [
        "df1['Team'].value_counts().plot(kind = 'pie', autopct = \"%.2f\")"
      ]
    },
    {
      "cell_type": "markdown",
      "id": "2fe0aef0",
      "metadata": {
        "id": "2fe0aef0"
      },
      "source": [
        "# Histogram"
      ]
    },
    {
      "cell_type": "code",
      "execution_count": null,
      "id": "0e0583bc",
      "metadata": {
        "scrolled": true,
        "id": "0e0583bc",
        "outputId": "81a4b04c-9b6c-4ab0-f622-e9c1520440ef",
        "colab": {
          "base_uri": "https://localhost:8080/",
          "height": 334
        }
      },
      "outputs": [
        {
          "output_type": "execute_result",
          "data": {
            "text/plain": [
              "(array([118.,  30.,  17.,  17.,  22.,  11.,   6.,   5.,   7.,   4.]),\n",
              " array([  26. ,  244.4,  462.8,  681.2,  899.6, 1118. , 1336.4, 1554.8,\n",
              "        1773.2, 1991.6, 2210. ]),\n",
              " <a list of 10 Patch objects>)"
            ]
          },
          "metadata": {},
          "execution_count": 30
        },
        {
          "output_type": "display_data",
          "data": {
            "text/plain": [
              "<Figure size 432x288 with 1 Axes>"
            ],
            "image/png": "[encoded data removed]"
          },
          "metadata": {
            "needs_background": "light"
          }
        }
      ],
      "source": [
        "plt.hist(df['Cost IN $ (000)'])"
      ]
    },
    {
      "cell_type": "code",
      "source": [
        "plt.hist(df1['Cost IN $ (000)'])"
      ],
      "metadata": {
        "colab": {
          "base_uri": "https://localhost:8080/",
          "height": 334
        },
        "id": "OmaJv09CEe7K",
        "outputId": "60cdf2e2-0596-4c75-a9cb-0ae2b4eea899"
      },
      "id": "OmaJv09CEe7K",
      "execution_count": null,
      "outputs": [
        {
          "output_type": "execute_result",
          "data": {
            "text/plain": [
              "(array([54., 20., 17., 15., 20., 11.,  6.,  5.,  7.,  4.]),\n",
              " array([  26. ,  244.4,  462.8,  681.2,  899.6, 1118. , 1336.4, 1554.8,\n",
              "        1773.2, 1991.6, 2210. ]),\n",
              " <a list of 10 Patch objects>)"
            ]
          },
          "metadata": {},
          "execution_count": 28
        },
        {
          "output_type": "display_data",
          "data": {
            "text/plain": [
              "<Figure size 432x288 with 1 Axes>"
            ],
            "image/png": "[encoded data removed]"
          },
          "metadata": {
            "needs_background": "light"
          }
        }
      ]
    },
    {
      "cell_type": "markdown",
      "source": [
        "# Density Plot"
      ],
      "metadata": {
        "id": "qWyB6rOwF-zw"
      },
      "id": "qWyB6rOwF-zw"
    },
    {
      "cell_type": "code",
      "source": [
        "df['Cost IN $ (000)'].plot(kind='density')"
      ],
      "metadata": {
        "colab": {
          "base_uri": "https://localhost:8080/",
          "height": 282
        },
        "id": "YaHiuESgMkZ5",
        "outputId": "1678baad-0d36-4f75-adf4-e0d3a9227e7d"
      },
      "id": "YaHiuESgMkZ5",
      "execution_count": null,
      "outputs": [
        {
          "output_type": "execute_result",
          "data": {
            "text/plain": [
              "<matplotlib.axes._subplots.AxesSubplot at 0x7f1421cb4850>"
            ]
          },
          "metadata": {},
          "execution_count": 85
        },
        {
          "output_type": "display_data",
          "data": {
            "text/plain": [
              "<Figure size 432x288 with 1 Axes>"
            ],
            "image/png": "[encoded data removed]"
          },
          "metadata": {
            "needs_background": "light"
          }
        }
      ]
    },
    {
      "cell_type": "code",
      "source": [
        "df1['Cost IN $ (000)'].plot(kind='density')"
      ],
      "metadata": {
        "colab": {
          "base_uri": "https://localhost:8080/",
          "height": 282
        },
        "id": "acfLvRy3F98Y",
        "outputId": "f3d1fb67-bf7c-4e43-eb08-a04dfa495c9c"
      },
      "id": "acfLvRy3F98Y",
      "execution_count": null,
      "outputs": [
        {
          "output_type": "execute_result",
          "data": {
            "text/plain": [
              "<matplotlib.axes._subplots.AxesSubplot at 0x7f14220ff1c0>"
            ]
          },
          "metadata": {},
          "execution_count": 32
        },
        {
          "output_type": "display_data",
          "data": {
            "text/plain": [
              "<Figure size 432x288 with 1 Axes>"
            ],
            "image/png": "[encoded data removed]"
          },
          "metadata": {
            "needs_background": "light"
          }
        }
      ]
    },
    {
      "cell_type": "markdown",
      "id": "1b448b27",
      "metadata": {
        "id": "1b448b27"
      },
      "source": [
        "# DistPlot"
      ]
    },
    {
      "cell_type": "code",
      "execution_count": null,
      "id": "bddbfb28",
      "metadata": {
        "id": "bddbfb28",
        "outputId": "3a9ee3a7-2de3-41fd-e74e-2de94fc34c13",
        "colab": {
          "base_uri": "https://localhost:8080/",
          "height": 351
        }
      },
      "outputs": [
        {
          "output_type": "stream",
          "name": "stderr",
          "text": [
            "/usr/local/lib/python3.8/dist-packages/seaborn/distributions.py:2619: FutureWarning: `distplot` is a deprecated function and will be removed in a future version. Please adapt your code to use either `displot` (a figure-level function with similar flexibility) or `histplot` (an axes-level function for histograms).\n",
            "  warnings.warn(msg, FutureWarning)\n"
          ]
        },
        {
          "output_type": "execute_result",
          "data": {
            "text/plain": [
              "<matplotlib.axes._subplots.AxesSubplot at 0x7f1422058280>"
            ]
          },
          "metadata": {},
          "execution_count": 33
        },
        {
          "output_type": "display_data",
          "data": {
            "text/plain": [
              "<Figure size 432x288 with 1 Axes>"
            ],
            "image/png": "[encoded data removed]"
          },
          "metadata": {
            "needs_background": "light"
          }
        }
      ],
      "source": [
        "sns.distplot(df['Cost IN $ (000)'].value_counts())"
      ]
    },
    {
      "cell_type": "code",
      "source": [
        "sns.distplot(df1['Cost IN $ (000)'].value_counts())"
      ],
      "metadata": {
        "colab": {
          "base_uri": "https://localhost:8080/",
          "height": 351
        },
        "id": "NbxCPQjJMfns",
        "outputId": "f5d3b00e-87b9-4e3d-b041-44a8d928b57e"
      },
      "id": "NbxCPQjJMfns",
      "execution_count": null,
      "outputs": [
        {
          "output_type": "stream",
          "name": "stderr",
          "text": [
            "/usr/local/lib/python3.8/dist-packages/seaborn/distributions.py:2619: FutureWarning: `distplot` is a deprecated function and will be removed in a future version. Please adapt your code to use either `displot` (a figure-level function with similar flexibility) or `histplot` (an axes-level function for histograms).\n",
            "  warnings.warn(msg, FutureWarning)\n"
          ]
        },
        {
          "output_type": "execute_result",
          "data": {
            "text/plain": [
              "<matplotlib.axes._subplots.AxesSubplot at 0x7f1421d1ce80>"
            ]
          },
          "metadata": {},
          "execution_count": 84
        },
        {
          "output_type": "display_data",
          "data": {
            "text/plain": [
              "<Figure size 432x288 with 1 Axes>"
            ],
            "image/png": "[encoded data removed]"
          },
          "metadata": {
            "needs_background": "light"
          }
        }
      ]
    },
    {
      "cell_type": "markdown",
      "id": "2861bb3e",
      "metadata": {
        "id": "2861bb3e"
      },
      "source": [
        "# BoxPlot"
      ]
    },
    {
      "cell_type": "code",
      "execution_count": null,
      "id": "4d8a3b5f",
      "metadata": {
        "id": "4d8a3b5f",
        "outputId": "11cec401-9b5b-4de6-da5f-5df2ae4b54cd",
        "colab": {
          "base_uri": "https://localhost:8080/",
          "height": 351
        }
      },
      "outputs": [
        {
          "output_type": "stream",
          "name": "stderr",
          "text": [
            "/usr/local/lib/python3.8/dist-packages/seaborn/_decorators.py:36: FutureWarning: Pass the following variable as a keyword arg: x. From version 0.12, the only valid positional argument will be `data`, and passing other arguments without an explicit keyword will result in an error or misinterpretation.\n",
            "  warnings.warn(\n"
          ]
        },
        {
          "output_type": "execute_result",
          "data": {
            "text/plain": [
              "<matplotlib.axes._subplots.AxesSubplot at 0x7f1421df1dc0>"
            ]
          },
          "metadata": {},
          "execution_count": 82
        },
        {
          "output_type": "display_data",
          "data": {
            "text/plain": [
              "<Figure size 432x288 with 1 Axes>"
            ],
            "image/png": "[encoded data removed]"
          },
          "metadata": {
            "needs_background": "light"
          }
        }
      ],
      "source": [
        "sns.boxplot(df['Cost IN $ (000)'])"
      ]
    },
    {
      "cell_type": "code",
      "source": [
        "sns.boxplot(df1['Cost IN $ (000)'])"
      ],
      "metadata": {
        "colab": {
          "base_uri": "https://localhost:8080/",
          "height": 351
        },
        "id": "iElxNNJYLtQW",
        "outputId": "4a406636-b96f-4459-89c9-d6dc0d1e0a8a"
      },
      "id": "iElxNNJYLtQW",
      "execution_count": null,
      "outputs": [
        {
          "output_type": "stream",
          "name": "stderr",
          "text": [
            "/usr/local/lib/python3.8/dist-packages/seaborn/_decorators.py:36: FutureWarning: Pass the following variable as a keyword arg: x. From version 0.12, the only valid positional argument will be `data`, and passing other arguments without an explicit keyword will result in an error or misinterpretation.\n",
            "  warnings.warn(\n"
          ]
        },
        {
          "output_type": "execute_result",
          "data": {
            "text/plain": [
              "<matplotlib.axes._subplots.AxesSubplot at 0x7f1421dc72b0>"
            ]
          },
          "metadata": {},
          "execution_count": 83
        },
        {
          "output_type": "display_data",
          "data": {
            "text/plain": [
              "<Figure size 432x288 with 1 Axes>"
            ],
            "image/png": "[encoded data removed]"
          },
          "metadata": {
            "needs_background": "light"
          }
        }
      ]
    }
  ],
  "metadata": {
    "kernelspec": {
      "display_name": "Python 3 (ipykernel)",
      "language": "python",
      "name": "python3"
    },
    "language_info": {
      "codemirror_mode": {
        "name": "ipython",
        "version": 3
      },
      "file_extension": ".py",
      "mimetype": "text/x-python",
      "name": "python",
      "nbconvert_exporter": "python",
      "pygments_lexer": "ipython3",
      "version": "3.9.12"
    },
    "colab": {
      "provenance": []
    }
  },
  "nbformat": 4,
  "nbformat_minor": 5
}